{
 "cells": [
  {
   "cell_type": "code",
   "execution_count": 66,
   "metadata": {},
   "outputs": [],
   "source": [
    "import pytesseract\n",
    "from PIL import Image"
   ]
  },
  {
   "cell_type": "code",
   "execution_count": 67,
   "metadata": {},
   "outputs": [],
   "source": [
    "img_file = \"data/page_01.jpg\"\n",
    "no_noise = \"temp/no_noise.jpg\""
   ]
  },
  {
   "cell_type": "code",
   "execution_count": 68,
   "metadata": {},
   "outputs": [],
   "source": [
    "img = Image.open(img_file)"
   ]
  },
  {
   "cell_type": "code",
   "execution_count": 69,
   "metadata": {},
   "outputs": [],
   "source": [
    "ocr_result = pytesseract.image_to_string(img)"
   ]
  },
  {
   "cell_type": "code",
   "execution_count": 70,
   "metadata": {},
   "outputs": [
    {
     "name": "stdout",
     "output_type": "stream",
     "text": [
      " \n",
      "\f\n"
     ]
    }
   ],
   "source": [
    "print(ocr_result)"
   ]
  },
  {
   "cell_type": "code",
   "execution_count": 71,
   "metadata": {},
   "outputs": [
    {
     "name": "stdout",
     "output_type": "stream",
     "text": [
      "“GABRIEL NMermace\n",
      "\n",
      "On Easter motning in the year 175, I took my six-year-old\n",
      "son by the hand and beran walking fron my home town toward the\n",
      "valleys and forests of the Carpathirs rountains. For nearly\n",
      "eight months we lived in barns, attics and makeshift cabins. “ith\n",
      "the poncuos help of an unusually courageous man, we managed to\n",
      "survive Europe's greatest fit of madness. Those who walked in\n",
      "the opposite direction on that Easter day were less fortunate.\n",
      "They wore taken in trainloads to places whose once obscure nanes\n",
      "are now, and forever will be, synonymous with terror, evil and\n",
      "death. What follows is our story of survival told to the best\n",
      "of my ability, in plain, simple languare.\n",
      "\n",
      "In March of 1944 the SS troops took over the internal affeirs\n",
      "of Hungary and proceeded to organize the deportation of the Jews.\n",
      "™> the Nazis this was a routine assignment; within hours all local\n",
      "officials were informed of operational plans. The high command\n",
      "issued a directive designed to placate Jewish fears and induce\n",
      "cooperation. It was announced that the Jews would be shipped to\n",
      "Poler:i as an emergency labor force and that they were only being\n",
      "drafted for temporary vork. There were many who believed this\n",
      "version. Others, less credulous, resigred themselves and hoped for\n",
      "the best. Still others began to make plans for escape. By Apris\n",
      "13 the Hungarian Jews were being rounded up from all over the\n",
      "country kn what was once a huge brick factory. The rest is well\n",
      "known. :\n",
      "\n",
      "I was working in Urevar and usually came home on weekends.\n",
      "\n",
      "At that time it was no lonser possitle for a Jew to travel freely.\n",
      "\n",
      "1\n",
      "\n",
      " \n",
      "\f\n"
     ]
    }
   ],
   "source": [
    "img = Image.open(no_noise)\n",
    "ocr_result = pytesseract.image_to_string(img)\n",
    "print(ocr_result)"
   ]
  }
 ],
 "metadata": {
  "kernelspec": {
   "display_name": "base",
   "language": "python",
   "name": "python3"
  },
  "language_info": {
   "name": "python",
   "version": "3.9.13 (main, Aug 25 2022, 23:51:50) [MSC v.1916 64 bit (AMD64)]"
  },
  "orig_nbformat": 4,
  "vscode": {
   "interpreter": {
    "hash": "20a9e06a1eee47c4abbed4ec8225ad91d78d9800d202b71b6b0a6e47016c6abd"
   }
  }
 },
 "nbformat": 4,
 "nbformat_minor": 2
}
